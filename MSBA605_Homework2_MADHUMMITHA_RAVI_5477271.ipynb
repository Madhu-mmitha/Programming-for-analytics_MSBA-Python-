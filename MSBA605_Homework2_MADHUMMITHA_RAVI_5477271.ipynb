{
 "cells": [
  {
   "cell_type": "markdown",
   "metadata": {},
   "source": [
    "# Homework Assignment 2"
   ]
  },
  {
   "cell_type": "code",
   "execution_count": 2,
   "metadata": {},
   "outputs": [],
   "source": [
    "import numpy as np\n",
    "import pandas as pd"
   ]
  },
  {
   "cell_type": "markdown",
   "metadata": {},
   "source": [
    "### Question 1\n",
    "\n",
    "Create a 4x3 array of letters from `a` through `l` and call it `array1`. Copy the array and call it `array2`, then reshape `array2` to a 6x2 array. Create another copy of the array, called `array3`, and flatten it into a one-dimensional array. Print all three arrays."
   ]
  },
  {
   "cell_type": "code",
   "execution_count": 4,
   "metadata": {},
   "outputs": [
    {
     "name": "stdout",
     "output_type": "stream",
     "text": [
      "The 4x3 array is:\n",
      " [['a' 'b' 'c']\n",
      " ['d' 'e' 'f']\n",
      " ['g' 'h' 'i']\n",
      " ['j' 'k' 'l']]\n",
      "The 6x2 array is:\n",
      " [['a' 'b']\n",
      " ['c' 'd']\n",
      " ['e' 'f']\n",
      " ['g' 'h']\n",
      " ['i' 'j']\n",
      " ['k' 'l']]\n",
      "The flattened array is:\n",
      " ['a' 'b' 'c' 'd' 'e' 'f' 'g' 'h' 'i' 'j' 'k' 'l']\n"
     ]
    }
   ],
   "source": [
    "array1 = np.array([['a','b','c'],['d','e','f'],['g','h','i'],['j','k','l']])\n",
    "print('The 4x3 array is:\\n',array1)\n",
    "array2 = array1.copy()\n",
    "array2 = array2.reshape(6,2)\n",
    "print('The 6x2 array is:\\n',array2)\n",
    "array3 = array1.copy()\n",
    "array3 = array3.flatten()\n",
    "print('The flattened array is:\\n',array3)"
   ]
  },
  {
   "cell_type": "markdown",
   "metadata": {},
   "source": [
    "### Question 2\n",
    "\n",
    "Create a 3x3 array of integers from 1-9. Calculate the array's row means, then broadcast the row means to subtract them from the original array. (**Note:** the row axis in Python is denoted by `0` while the column axis is denoted by `1`.)"
   ]
  },
  {
   "cell_type": "code",
   "execution_count": 6,
   "metadata": {},
   "outputs": [
    {
     "name": "stdout",
     "output_type": "stream",
     "text": [
      "The array is:\n",
      " [[1 2 3]\n",
      " [4 5 6]\n",
      " [7 8 9]]\n",
      "The row mean of the array is:\n",
      " [4. 5. 6.]\n",
      "The subtracted array is:\n",
      " [[-3. -3. -3.]\n",
      " [ 0.  0.  0.]\n",
      " [ 3.  3.  3.]]\n"
     ]
    }
   ],
   "source": [
    "array_new = np.array([[1,2,3],[4,5,6],[7,8,9]])\n",
    "print('The array is:\\n',array_new)\n",
    "row_mean = array_new.mean(0)\n",
    "print('The row mean of the array is:\\n',row_mean)\n",
    "array_new = array_new - row_mean\n",
    "print('The subtracted array is:\\n',array_new)"
   ]
  },
  {
   "cell_type": "markdown",
   "metadata": {},
   "source": [
    "### Question 3\n",
    "\n",
    "Using the two arrays provided, first select all rows from `grades` where `students` is either `'Cora'` or `'David'`"
   ]
  },
  {
   "cell_type": "code",
   "execution_count": 27,
   "metadata": {},
   "outputs": [
    {
     "name": "stdout",
     "output_type": "stream",
     "text": [
      "The grades of Cora is: [[85 85]]\n",
      "The grades of David is: [[87 92]]\n"
     ]
    }
   ],
   "source": [
    "students = np.array(['Arthur', 'Betty', 'Cora', 'David', 'Ethan'])\n",
    "grades = np.array([[95, 80], [72, 78], [85, 85], [87, 92], [82, 88]])\n",
    "print('The grades of Cora is:',grades[students == 'Cora'])\n",
    "print('The grades of David is:',grades[students == 'David'])"
   ]
  },
  {
   "cell_type": "markdown",
   "metadata": {},
   "source": [
    "### Question 4\n",
    "\n",
    "Use `np.where()` to create a Boolean array that will print `True` when the student's grade is greater than the overall class average (or `mean`) and `False` when it is not."
   ]
  },
  {
   "cell_type": "code",
   "execution_count": 30,
   "metadata": {},
   "outputs": [
    {
     "name": "stdout",
     "output_type": "stream",
     "text": [
      "[[ True False]\n",
      " [False False]\n",
      " [ True  True]\n",
      " [ True  True]\n",
      " [False  True]]\n"
     ]
    }
   ],
   "source": [
    "Boolean_array = np.where(grades > grades.mean(0),True,False)\n",
    "print(Boolean_array)        "
   ]
  },
  {
   "cell_type": "markdown",
   "metadata": {},
   "source": [
    "### Question 5\n",
    "\n",
    "Create a 2x4 array of random numbers called `a` using `np.random.randn()` and a 3x4 array of random numbers called `b`. Multiply matrices `a` and `b` together to find the dot product. What is the `shape` of the resulting array? (**Note:** Remember to transpose the arrays as needed!)"
   ]
  },
  {
   "cell_type": "code",
   "execution_count": 46,
   "metadata": {},
   "outputs": [
    {
     "name": "stdout",
     "output_type": "stream",
     "text": [
      "Matrix a:\n",
      " [[-0.5154657  -0.60380208  1.73738739  0.31027445]\n",
      " [-1.02804125  1.02062999  1.86328432  0.64486013]]\n",
      "Matrix b:\n",
      " [[-0.84443452  0.98555164 -0.7969549   1.56531933]\n",
      " [ 1.18889847  0.09403536  0.80366074 -0.70719386]\n",
      " [-0.18221092  0.60667817 -0.87734409 -0.08656151]]\n",
      "Transposed matrix b:\n",
      " [[-0.84443452  1.18889847 -0.18221092]\n",
      " [ 0.98555164  0.09403536  0.60667817]\n",
      " [-0.7969549   0.80366074 -0.87734409]\n",
      " [ 1.56531933 -0.70719386 -0.08656151]]\n",
      "The dot product matrix of the matrices a and b is:\n",
      " [[-1.0587419   0.50723072 -1.82353445]\n",
      " [ 1.39845553 -0.08485403 -0.88404729]]\n",
      "The shape of the dot product matrix of the matrices a and b is is: (2, 3)\n"
     ]
    }
   ],
   "source": [
    "a = np.random.randn(2,4)\n",
    "print ('Matrix a:\\n',a)\n",
    "b = np.random.randn(3,4)\n",
    "print('Matrix b:\\n',b)\n",
    "b = b.T\n",
    "print('Transposed matrix b:\\n',b)\n",
    "c = np.dot(a,b)\n",
    "print('The dot product matrix of the matrices a and b is:\\n',c)\n",
    "print('The shape of the dot product matrix of the matrices a and b is is:', np.shape(c))"
   ]
  },
  {
   "cell_type": "markdown",
   "metadata": {},
   "source": [
    "### Question 6\n",
    "\n",
    "Create a Pandas `Series` using the given list of U.S. presidents as the values and the list of election years as the index. Who was elected president in 1876?"
   ]
  },
  {
   "cell_type": "code",
   "execution_count": 59,
   "metadata": {},
   "outputs": [
    {
     "name": "stdout",
     "output_type": "stream",
     "text": [
      "The president of U.S. elected in 1876 is: Rutherford B. Hayes\n"
     ]
    }
   ],
   "source": [
    "year = [1788,1792,1796,1800,1804,1808,1812,1816,1820,1824,1828,1832,1836,1840,1840,1844,1848,1848,1852,1856,1860,1864,1864,1868,1872,1876,1880,1880,1884,1888,1892,1896,1900,1904,1908,1912,1916,1920,1924,1928,1932,1936,1940,1944,1948,1952,1956,1960,1964,1968,1972,1972,1976,1980,1984,1988,1992,1996,2000,2004,2008,2012,2016,2020]\n",
    "name = ['George Washington','George Washington','John Adams','Thomas Jefferson','Thomas Jefferson','James Madison','James Madison','James Monroe','James Monroe','John Quincy Adams','Andrew Jackson','Andrew Jackson','Martin Van Buren','William Henry Harrison','John Tyler','James K. Polk','Zachary Taylor','Millard Fillmore','Franklin Pierce','James Buchanan','Abraham Lincoln','Abraham Lincoln','Andrew Johnson','Ulysses S. Grant','Ulysses S. Grant','Rutherford B. Hayes','James A. Garfield','Chester A. Arthur','Grover Cleveland','Benjamin Harrison','Grover Cleveland','William McKinley','William McKinley','Theodore Roosevelt','William Howard Taft','Woodrow Wilson','Woodrow Wilson','Warren G. Harding','Calvin Coolidge','Herbert Hoover','Franklin D. Roosevelt','Franklin D. Roosevelt','Franklin D. Roosevelt','Franklin D. Roosevelt','Harry S. Truman','Dwight D. Eisenhower','Dwight D. Eisenhower','John F. Kennedy','Lyndon B. Johnson','Richard Nixon','Richard Nixon','Gerald Ford','Jimmy Carter','Ronald Reagan','Ronald Reagan','George H. W. Bush','Bill Clinton','Bill Clinton','George W. Bush','George W. Bush','Barack Obama','Barack Obama','Donald Trump','Joe Biden']\n",
    "series1 = pd.Series(data = name, index = year)\n",
    "print('The president of U.S. elected in 1876 is:',series1[1876])"
   ]
  },
  {
   "cell_type": "markdown",
   "metadata": {},
   "source": [
    "### Question 7\n",
    "\n",
    "Create a Pandas DataFrame called `df` from the three Series below. Use the Series names as the column names. Slice the DataFrame to see what `party` William Howard Taft belonged to and what `year` he was elected."
   ]
  },
  {
   "cell_type": "code",
   "execution_count": 73,
   "metadata": {},
   "outputs": [
    {
     "name": "stdout",
     "output_type": "stream",
     "text": [
      "The details of what party and year William Howard Taft was elected is:\n",
      "     Number  Year                 Name       Party\n",
      "34      27  1908  William Howard Taft  Republican\n"
     ]
    }
   ],
   "source": [
    "year = pd.Series([1788,1792,1796,1800,1804,1808,1812,1816,1820,1824,1828,1832,1836,1840,1840,1844,1848,1848,1852,1856,1860,1864,1864,1868,1872,1876,1880,1880,1884,1888,1892,1896,1900,1904,1908,1912,1916,1920,1924,1928,1932,1936,1940,1944,1948,1952,1956,1960,1964,1968,1972,1972,1976,1980,1984,1988,1992,1996,2000,2004,2008,2012,2016,2020])\n",
    "name = pd.Series(['George Washington','George Washington','John Adams','Thomas Jefferson','Thomas Jefferson','James Madison','James Madison','James Monroe','James Monroe','John Quincy Adams','Andrew Jackson','Andrew Jackson','Martin Van Buren','William Henry Harrison','John Tyler','James K. Polk','Zachary Taylor','Millard Fillmore','Franklin Pierce','James Buchanan','Abraham Lincoln','Abraham Lincoln','Andrew Johnson','Ulysses S. Grant','Ulysses S. Grant','Rutherford B. Hayes','James A. Garfield','Chester A. Arthur','Grover Cleveland','Benjamin Harrison','Grover Cleveland','William McKinley','William McKinley','Theodore Roosevelt','William Howard Taft','Woodrow Wilson','Woodrow Wilson','Warren G. Harding','Calvin Coolidge','Herbert Hoover','Franklin D. Roosevelt','Franklin D. Roosevelt','Franklin D. Roosevelt','Franklin D. Roosevelt','Harry S. Truman','Dwight D. Eisenhower','Dwight D. Eisenhower','John F. Kennedy','Lyndon B. Johnson','Richard Nixon','Richard Nixon','Gerald Ford','Jimmy Carter','Ronald Reagan','Ronald Reagan','George H. W. Bush','Bill Clinton','Bill Clinton','George W. Bush','George W. Bush','Barack Obama','Barack Obama','Donald Trump','Joe Biden'])\n",
    "party = pd.Series(['Unaffiliated','Unaffiliated','Federalist','Democratic-Republican','Democratic-Republican','Democratic-Republican','Democratic-Republican','Democratic-Republican','Democratic-Republican','Democratic-Republican','Democratic','Democratic','Democratic','Whig','Whig','Democratic','Whig','Whig','Democratic','Democratic','Republican','National Union','Democratic','Republican','Republican','Republican','Republican','Republican','Democratic','Republican','Democratic','Republican','Republican','Republican','Republican','Democratic','Democratic','Republican','Republican','Republican','Democratic','Democratic','Democratic','Democratic','Democratic','Republican','Republican','Democratic','Democratic','Republican','Republican','Republican','Democratic','Republican','Republican','Republican','Democratic','Democratic','Republican','Republican','Democratic','Democratic','Republican','Democratic'])\n",
    "number = pd.Series([1,1,2,3,3,4,4,5,5,6,7,7,8,9,10,11,12,13,14,15,16,16,17,18,18,19,20,21,22,23,24,25,25,26,27,28,28,29,30,31,32,32,32,32,33,34,34,35,36,37,37,38,39,40,40,41,42,42,43,43,44,44,45,46])\n",
    "df = pd.DataFrame({'Number':number,'Year': year,'Name': name, 'Party': party})\n",
    "print('The details of what party and year William Howard Taft was elected is:\\n',df[df.Name=='William Howard Taft'])"
   ]
  },
  {
   "cell_type": "markdown",
   "metadata": {},
   "source": [
    "### Question 8\n",
    "\n",
    "Using the DataFrame you created in the question before, `set_index` to the `year` column if you have not already done this. Slice the DataFrame using `.loc` to show all those who were president from 1900-1920."
   ]
  },
  {
   "cell_type": "code",
   "execution_count": 79,
   "metadata": {},
   "outputs": [
    {
     "name": "stdout",
     "output_type": "stream",
     "text": [
      "      Number  Year                 Name       Party\n",
      "1900      25  1900     William McKinley  Republican\n",
      "1904      26  1904   Theodore Roosevelt  Republican\n",
      "1908      27  1908  William Howard Taft  Republican\n",
      "1912      28  1912       Woodrow Wilson  Democratic\n",
      "1916      28  1916       Woodrow Wilson  Democratic\n",
      "1920      29  1920    Warren G. Harding  Republican\n"
     ]
    }
   ],
   "source": [
    "df = df.set_index(year)\n",
    "df_part = df.loc[1900:1920]\n",
    "print(df_part)"
   ]
  },
  {
   "cell_type": "markdown",
   "metadata": {},
   "source": [
    "### Question 9\n",
    "\n",
    "Filter the DataFrame you created in Question 7 to see how many `'Democratic'` and how many `'Republican'` presidents we have had. Use the `.count()` method to count the number of rows in each category and `print` the name of the party along with the result."
   ]
  },
  {
   "cell_type": "code",
   "execution_count": 100,
   "metadata": {},
   "outputs": [
    {
     "name": "stdout",
     "output_type": "stream",
     "text": [
      "The count of Democratic: 24\n",
      "The count of Republican: 25\n"
     ]
    }
   ],
   "source": [
    "Dem = 'Democratic'\n",
    "print('The count of {}:'.format(Dem),(df[df.Party == 'Democratic'].Number).count())\n",
    "Rep = 'Republican'\n",
    "print('The count of {}:'.format(Rep),(df[df.Party == 'Republican'].Number).count())  \n",
    "        "
   ]
  },
  {
   "cell_type": "markdown",
   "metadata": {},
   "source": [
    "### Question 10\n",
    "\n",
    "`Map` a `lambda` function onto the `'name'` column to capitalize all the president names in the DataFrame you created in Question 7. Remember to apply the `.upper()` method to capitalize the letters."
   ]
  },
  {
   "cell_type": "code",
   "execution_count": 104,
   "metadata": {},
   "outputs": [
    {
     "data": {
      "text/plain": [
       "1788    GEORGE WASHINGTON\n",
       "1792    GEORGE WASHINGTON\n",
       "1796           JOHN ADAMS\n",
       "1800     THOMAS JEFFERSON\n",
       "1804     THOMAS JEFFERSON\n",
       "              ...        \n",
       "2004       GEORGE W. BUSH\n",
       "2008         BARACK OBAMA\n",
       "2012         BARACK OBAMA\n",
       "2016         DONALD TRUMP\n",
       "2020            JOE BIDEN\n",
       "Name: Name, Length: 64, dtype: object"
      ]
     },
     "execution_count": 104,
     "metadata": {},
     "output_type": "execute_result"
    }
   ],
   "source": [
    "df['Name'] = df['Name'].map(lambda x: x.upper())\n",
    "df['Name']"
   ]
  },
  {
   "cell_type": "code",
   "execution_count": null,
   "metadata": {},
   "outputs": [],
   "source": []
  }
 ],
 "metadata": {
  "kernelspec": {
   "display_name": "Python 3",
   "language": "python",
   "name": "python3"
  },
  "language_info": {
   "codemirror_mode": {
    "name": "ipython",
    "version": 3
   },
   "file_extension": ".py",
   "mimetype": "text/x-python",
   "name": "python",
   "nbconvert_exporter": "python",
   "pygments_lexer": "ipython3",
   "version": "3.8.8"
  }
 },
 "nbformat": 4,
 "nbformat_minor": 4
}
